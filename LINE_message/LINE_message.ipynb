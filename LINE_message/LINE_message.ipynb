{
  "nbformat": 4,
  "nbformat_minor": 0,
  "metadata": {
    "celltoolbar": "Slideshow",
    "kernelspec": {
      "display_name": "Python 3",
      "language": "python",
      "name": "python3"
    },
    "language_info": {
      "codemirror_mode": {
        "name": "ipython",
        "version": 3
      },
      "file_extension": ".py",
      "mimetype": "text/x-python",
      "name": "python",
      "nbconvert_exporter": "python",
      "pygments_lexer": "ipython3",
      "version": "3.7.4"
    },
    "colab": {
      "name": "LINE_message.ipynb",
      "provenance": [],
      "collapsed_sections": []
    }
  },
  "cells": [
    {
      "cell_type": "code",
      "metadata": {
        "id": "4w2-MiPzpwPH",
        "colab_type": "code",
        "colab": {}
      },
      "source": [
        "#LINE_message\n",
        "\n",
        "import requests\n",
        "\n",
        "#message\n",
        "message=\"ありがたき幸せ...！\"\n",
        "\n",
        "#image\n",
        "image=\"cafe.jpg\"\n",
        "\n",
        "#ID of LINE sticker\n",
        "sticker_package_id=2\n",
        "\n",
        "sticker_id=171\n",
        "\n",
        "url = \"https://notify-api.line.me/api/notify\"\n",
        "\n",
        "payload = {\"message\": message, \"stickerPackageId\": sticker_package_id, \"stickerId\": sticker_id, }\n",
        "\n",
        "#Please replace \"YOUR_ACCESS_TOKEN\" by your own LINE_ACCESS_TOKEN\n",
        "headers = {\"Authorization\": \"Bearer \" + \"YOUR_ACCESS_TOKEN\"}\n",
        "\n",
        "if image !=None:\n",
        "    files = {\"imageFile\": open(image, \"rb\")}\n",
        "\n",
        "requests.post(url, headers=headers, params=payload,files=files)"
      ],
      "execution_count": 0,
      "outputs": []
    }
  ]
}