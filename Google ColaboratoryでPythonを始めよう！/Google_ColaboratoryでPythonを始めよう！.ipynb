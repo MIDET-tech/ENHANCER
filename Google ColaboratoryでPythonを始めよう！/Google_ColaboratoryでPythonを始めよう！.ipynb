{
  "nbformat": 4,
  "nbformat_minor": 0,
  "metadata": {
    "colab": {
      "name": "Google ColaboratoryでPythonを始めよう！.ipynb",
      "provenance": [],
      "collapsed_sections": []
    },
    "kernelspec": {
      "name": "python3",
      "display_name": "Python 3"
    }
  },
  "cells": [
    {
      "cell_type": "markdown",
      "metadata": {
        "id": "KyOQrrAvadu4",
        "colab_type": "text"
      },
      "source": [
        "![代替テキスト](https://enhancer298.net/wp-content/uploads/2020/05/d.png)"
      ]
    },
    {
      "cell_type": "code",
      "metadata": {
        "id": "Rl2hUN7gau_J",
        "colab_type": "code",
        "colab": {}
      },
      "source": [
        "#これがコードセルです"
      ],
      "execution_count": 0,
      "outputs": []
    },
    {
      "cell_type": "markdown",
      "metadata": {
        "id": "gzUGkBJfa637",
        "colab_type": "text"
      },
      "source": [
        "これがテキストセルです"
      ]
    },
    {
      "cell_type": "markdown",
      "metadata": {
        "id": "eOPypEJ9cCQD",
        "colab_type": "text"
      },
      "source": [
        "# ↓記事中で用いたコードです、実際に実行してみて動作を確認してみてください！"
      ]
    },
    {
      "cell_type": "code",
      "metadata": {
        "id": "CTxHF7uya9AV",
        "colab_type": "code",
        "colab": {}
      },
      "source": [
        "print(\"Hello World!\")"
      ],
      "execution_count": 0,
      "outputs": []
    },
    {
      "cell_type": "markdown",
      "metadata": {
        "id": "5XWjmHnmbuPj",
        "colab_type": "text"
      },
      "source": [
        "# こんにちは！ \n",
        "## あなたの好きな果物は何ですか？ \n",
        "私の好きな食べ物は、 \n",
        "1. りんご \n",
        "2. みかん \n",
        "です！"
      ]
    },
    {
      "cell_type": "code",
      "metadata": {
        "id": "XD_cXZbQbrER",
        "colab_type": "code",
        "colab": {}
      },
      "source": [
        "import numpy as np\n",
        "import matplotlib.pyplot as plt\n",
        "\n",
        "x = np.arange(0,7,0.1)\n",
        "y = np.sin(x)\n",
        "plt.plot(x,y)\n",
        "plt.show()"
      ],
      "execution_count": 0,
      "outputs": []
    },
    {
      "cell_type": "markdown",
      "metadata": {
        "id": "Oka2HNsqbSQu",
        "colab_type": "text"
      },
      "source": [
        "おまけ：以下のコードを実行するとPythonのバージョンを確認できます"
      ]
    },
    {
      "cell_type": "code",
      "metadata": {
        "id": "fatRLAGxaXN2",
        "colab_type": "code",
        "colab": {}
      },
      "source": [
        "import platform\n",
        "print(\"Python \" + platform.python_version())"
      ],
      "execution_count": 0,
      "outputs": []
    }
  ]
}