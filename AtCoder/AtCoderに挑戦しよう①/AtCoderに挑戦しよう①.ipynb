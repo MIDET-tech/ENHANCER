{
  "nbformat": 4,
  "nbformat_minor": 0,
  "metadata": {
    "colab": {
      "name": "Untitled1.ipynb",
      "provenance": [],
      "collapsed_sections": []
    },
    "kernelspec": {
      "name": "python3",
      "display_name": "Python 3"
    }
  },
  "cells": [
    {
      "cell_type": "code",
      "metadata": {
        "id": "vd0YRaWjTPf3",
        "colab_type": "code",
        "colab": {}
      },
      "source": [
        "a=int(input())\n",
        "b,c=map(int,input().split()) \n",
        "s=input() \n",
        "\n",
        "d=a+b+c \n",
        "\n",
        "print(\"{} {}\".format(d,s))"
      ],
      "execution_count": null,
      "outputs": []
    }
  ]
}