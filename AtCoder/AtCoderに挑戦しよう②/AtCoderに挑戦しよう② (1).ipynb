{
  "nbformat": 4,
  "nbformat_minor": 0,
  "metadata": {
    "colab": {
      "name": "AtCoderに挑戦しよう②.ipynb",
      "provenance": []
    },
    "kernelspec": {
      "name": "python3",
      "display_name": "Python 3"
    }
  },
  "cells": [
    {
      "cell_type": "code",
      "metadata": {
        "id": "qX3d7HvwUv8H",
        "colab_type": "code",
        "colab": {}
      },
      "source": [
        "a,b=map(int,input().split()) \n",
        "c=a*b \n",
        "if c%2==1: \n",
        "  print(\"Odd\") \n",
        "else: \n",
        "  print(\"Even\")"
      ],
      "execution_count": null,
      "outputs": []
    },
    {
      "cell_type": "code",
      "metadata": {
        "id": "kFfND6MVVIuF",
        "colab_type": "code",
        "colab": {}
      },
      "source": [
        "a=input() \n",
        "b=a.count(\"1\") \n",
        "print(b)"
      ],
      "execution_count": null,
      "outputs": []
    }
  ]
}