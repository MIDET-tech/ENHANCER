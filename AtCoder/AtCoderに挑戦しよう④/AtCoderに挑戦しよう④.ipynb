{
  "nbformat": 4,
  "nbformat_minor": 0,
  "metadata": {
    "colab": {
      "name": "AtCoderに挑戦しよう④.ipynb",
      "provenance": []
    },
    "kernelspec": {
      "name": "python3",
      "display_name": "Python 3"
    }
  },
  "cells": [
    {
      "cell_type": "code",
      "metadata": {
        "id": "tPSgzb7hVjgR",
        "colab_type": "code",
        "colab": {}
      },
      "source": [
        "A=int(input())\n",
        "B=int(input())\n",
        "C=int(input())\n",
        "X=int(input())\n",
        "\n",
        "count=0\n",
        "\n",
        "for i in range(A+1):\n",
        "  for j in range(B+1):\n",
        "    I=i*500\n",
        "    J=j*100\n",
        "    if 0 <= X-I-J <= C*50:\n",
        "      count=1\n",
        "\n",
        "print(count)"
      ],
      "execution_count": null,
      "outputs": []
    }
  ]
}