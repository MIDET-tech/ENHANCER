{
 "cells": [
  {
   "cell_type": "code",
   "execution_count": null,
   "metadata": {},
   "outputs": [],
   "source": [
    "!pip install selenium\n",
    "!pip install beatifulsoup4\n",
    "\n",
    "from selenium import webdriver\n",
    "import time\n",
    "import pandas as pd\n",
    "browser = webdriver.Chrome(executable_path = 'C:\\\\Users\\\\mamoa\\\\chromedriver\\\\chromedriver_win32 (1)\\\\chromedriver.exe')\n",
    "browser.implicitly_wait(3)\n",
    "\n",
    "url_login = \"https://www.rakuten.co.jp/\"\n",
    "browser.get(url_login)\n",
    "time.sleep(2)\n",
    "print(\"acsess_success\")\n",
    "\n",
    "search = browser.find_element_by_id('rnkDailyGenreLink_0_unlink') \n",
    "time.sleep(2)\n",
    "search.click()\n",
    "print(\"realtime_select\")\n",
    "\n",
    "search = browser.find_element_by_id('rnkGenreInfoUrlHasHistory') \n",
    "time.sleep(2)\n",
    "search.click()\n",
    "print(\"realtimeranking_click\")"
   ]
  },
  {
   "cell_type": "code",
   "execution_count": null,
   "metadata": {},
   "outputs": [],
   "source": []
  },
  {
   "cell_type": "code",
   "execution_count": null,
   "metadata": {},
   "outputs": [],
   "source": []
  },
  {
   "cell_type": "code",
   "execution_count": null,
   "metadata": {},
   "outputs": [],
   "source": []
  }
 ],
 "metadata": {
  "kernelspec": {
   "display_name": "Python 3",
   "language": "python",
   "name": "python3"
  },
  "language_info": {
   "codemirror_mode": {
    "name": "ipython",
    "version": 3
   },
   "file_extension": ".py",
   "mimetype": "text/x-python",
   "name": "python",
   "nbconvert_exporter": "python",
   "pygments_lexer": "ipython3",
   "version": "3.7.6"
  }
 },
 "nbformat": 4,
 "nbformat_minor": 4
}
