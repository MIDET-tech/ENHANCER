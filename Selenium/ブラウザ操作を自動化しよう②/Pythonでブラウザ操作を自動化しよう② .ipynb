{
 "cells": [
  {
   "cell_type": "code",
   "execution_count": 4,
   "metadata": {},
   "outputs": [
    {
     "name": "stdout",
     "output_type": "stream",
     "text": [
      "Requirement already satisfied: selenium in c:\\users\\mamoa\\appdata\\local\\programs\\python\\python38\\lib\\site-packages (3.141.0)\n",
      "Requirement already satisfied: urllib3 in c:\\users\\mamoa\\appdata\\local\\programs\\python\\python38\\lib\\site-packages (from selenium) (1.25.10)\n"
     ]
    },
    {
     "name": "stderr",
     "output_type": "stream",
     "text": [
      "ERROR: Could not find a version that satisfies the requirement beatifulsoup4 (from versions: none)\n",
      "ERROR: No matching distribution found for beatifulsoup4\n"
     ]
    },
    {
     "name": "stdout",
     "output_type": "stream",
     "text": [
      "access_success\n",
      "realtime_select\n",
      "realtimeranking_click\n"
     ]
    }
   ],
   "source": [
    "!pip install selenium\n",
    "!pip install beatifulsoup4\n",
    "\n",
    "from selenium import webdriver\n",
    "import time\n",
    "import pandas as pd\n",
    "browser = webdriver.Chrome(executable_path = 'C:\\\\Users\\\\mamoa\\\\chromedriver\\\\chromedriver_win32 (1)\\\\chromedriver.exe')\n",
    "browser.implicitly_wait(3)\n",
    "\n",
    "url_login = \"https://www.rakuten.co.jp/\"\n",
    "browser.get(url_login)\n",
    "time.sleep(2)\n",
    "print(\"access_success\")\n",
    "\n",
    "search_1 = browser.find_element_by_css_selector('#rnkDailyGenreLink_0_unlink > div > img') \n",
    "time.sleep(2)\n",
    "search_1.click()\n",
    "print(\"realtime_select\")\n",
    "\n",
    "search_2 = browser.find_element_by_css_selector('#rnkGenreInfoUrlHasHistory') \n",
    "time.sleep(2)\n",
    "search_2.click()\n",
    "print(\"realtimeranking_click\")"
   ]
  },
  {
   "cell_type": "code",
   "execution_count": null,
   "metadata": {},
   "outputs": [],
   "source": []
  },
  {
   "cell_type": "code",
   "execution_count": null,
   "metadata": {},
   "outputs": [],
   "source": []
  }
 ],
 "metadata": {
  "kernelspec": {
   "display_name": "Python 3",
   "language": "python",
   "name": "python3"
  },
  "language_info": {
   "codemirror_mode": {
    "name": "ipython",
    "version": 3
   },
   "file_extension": ".py",
   "mimetype": "text/x-python",
   "name": "python",
   "nbconvert_exporter": "python",
   "pygments_lexer": "ipython3",
   "version": "3.7.6"
  }
 },
 "nbformat": 4,
 "nbformat_minor": 4
}
