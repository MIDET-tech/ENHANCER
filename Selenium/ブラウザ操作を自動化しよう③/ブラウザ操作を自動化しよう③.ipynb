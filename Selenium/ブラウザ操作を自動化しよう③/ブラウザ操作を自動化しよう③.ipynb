{
 "cells": [
  {
   "cell_type": "code",
   "execution_count": 1,
   "metadata": {},
   "outputs": [
    {
     "name": "stdout",
     "output_type": "stream",
     "text": [
      "done\n"
     ]
    }
   ],
   "source": [
    "from selenium import webdriver\n",
    "import time\n",
    "import pandas as pd\n",
    "import numpy as np\n",
    "\n",
    "chrome = webdriver.Chrome(\"C:\\\\Users\\\\mamoa\\\\chromedriver\\\\chromedriver_win32\\\\chromedriver.exe\")\n",
    "\n",
    "url = \"https://ranking.rakuten.co.jp/realtime/?l-id=top_normal_rk_hashist_realtime\"\n",
    "chrome.get(url)\n",
    "time.sleep(2)\n",
    "print(\"done\")\n",
    "\n",
    "ranking_list = []\n",
    "\n",
    "for i in range(1,21):\n",
    "    product_name_1_21 = chrome.find_element_by_xpath(\"//*[@id='rnkRankingMain']/div[\"+str(i)+\"]/div[3]/div[1]/div/div/div/div[1]/a\").text\n",
    "    ranking_list.append(product_name_1_21)\n",
    "for i in range(22, 82):\n",
    "    product_name_22_82 = chrome.find_element_by_xpath(\"//*[@id='rnkRankingMain']/div[\"+str(i)+\"]/div[3]/div[1]/div/div/div/div[1]/a\").text\n",
    "    ranking_list.append(product_name_22_82)\n",
    "    \n",
    "ranking_table = pd.DataFrame(ranking_list, index=None, columns = [\"商品名\"])\n",
    "ranking_table.index = np.arange(1, len(ranking_table)+1)\n",
    "\n",
    "ranking_url = []\n",
    "\n",
    "for i in range(1,21):\n",
    "    get_url_1_21 = chrome.find_element_by_xpath(\"//*[@id='rnkRankingMain']/div[\"+str(i)+\"]/div[3]/div[1]/div/div/div/div[1]/a\").get_attribute(\"href\")\n",
    "    ranking_url.append(get_url_1_21)\n",
    "for i in range(22,82):\n",
    "    get_url_22_82 = chrome.find_element_by_xpath(\"//*[@id='rnkRankingMain']/div[\"+str(i)+\"]/div[3]/div[1]/div/div/div/div[1]/a\").get_attribute(\"href\")\n",
    "    ranking_url.append(get_url_22_82)\n",
    "\n",
    "ranking_table[\"URL\"] = np.array(ranking_url)\n",
    "\n",
    "ranking_table.to_excel(\"rakuten_realtimeranking.xlsx\",encoding=\"shift-jis\")"
   ]
  },
  {
   "cell_type": "code",
   "execution_count": null,
   "metadata": {},
   "outputs": [],
   "source": []
  }
 ],
 "metadata": {
  "kernelspec": {
   "display_name": "Python 3",
   "language": "python",
   "name": "python3"
  },
  "language_info": {
   "codemirror_mode": {
    "name": "ipython",
    "version": 3
   },
   "file_extension": ".py",
   "mimetype": "text/x-python",
   "name": "python",
   "nbconvert_exporter": "python",
   "pygments_lexer": "ipython3",
   "version": "3.7.6"
  }
 },
 "nbformat": 4,
 "nbformat_minor": 4
}
