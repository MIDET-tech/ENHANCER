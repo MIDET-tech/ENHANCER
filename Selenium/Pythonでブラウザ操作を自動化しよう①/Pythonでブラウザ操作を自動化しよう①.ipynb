{
 "cells": [
  {
   "cell_type": "code",
   "execution_count": 3,
   "metadata": {},
   "outputs": [
    {
     "name": "stdout",
     "output_type": "stream",
     "text": [
      "Requirement already satisfied: selenium in c:\\users\\mamoa\\appdata\\local\\programs\\python\\python38\\lib\\site-packages (3.141.0)\n",
      "Requirement already satisfied: urllib3 in c:\\users\\mamoa\\appdata\\local\\programs\\python\\python38\\lib\\site-packages (from selenium) (1.25.10)\n",
      "acsess_success\n"
     ]
    }
   ],
   "source": [
    "!pip install selenium\n",
    "\n",
    "from selenium import webdriver\n",
    "import time\n",
    "import pandas as pd\n",
    "\n",
    "browser = webdriver.Chrome(executable_path = 'C:/Users/mamoa/chromedriver/chromedriver_win32/chromedriver.exe')\n",
    "browser.implicitly_wait(3)\n",
    "\n",
    "url_login = \"https://www.google.com/?hl=ja\"\n",
    "browser.get(url_login)\n",
    "time.sleep(3)\n",
    "print(\"acsess_success\")"
   ]
  }
 ],
 "metadata": {
  "kernelspec": {
   "display_name": "Python 3",
   "language": "python",
   "name": "python3"
  },
  "language_info": {
   "codemirror_mode": {
    "name": "ipython",
    "version": 3
   },
   "file_extension": ".py",
   "mimetype": "text/x-python",
   "name": "python",
   "nbconvert_exporter": "python",
   "pygments_lexer": "ipython3",
   "version": "3.7.6"
  }
 },
 "nbformat": 4,
 "nbformat_minor": 4
}
