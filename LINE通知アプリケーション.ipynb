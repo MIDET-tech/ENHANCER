{
 "cells": [
  {
   "cell_type": "markdown",
   "metadata": {
    "slideshow": {
     "slide_type": "slide"
    }
   },
   "source": [
    "# LINE通知アプリケーション作成手順\n",
    "## 参考文献\n",
    "https://qiita.com/moriita/items/5b199ac6b14ceaa4f7c9     \n",
    "https://notify-bot.line.me/my/\n",
    "\n",
    "内容に関する不明点・ご指摘・質問等は\n",
    "\n",
    "enhancer200505@gmail.com \n",
    "\n",
    "までお願いします。"
   ]
  },
  {
   "cell_type": "markdown",
   "metadata": {
    "slideshow": {
     "slide_type": "slide"
    }
   },
   "source": [
    "## 注意点\n",
    "\n",
    "出来る限り分かりやすく説明しますが、天才ではないので完璧には説明できません。あしからず。\n",
    "\n",
    "また、たまに間違ったこと言うかもしれません、出来る限り書籍とかで確認していますが...。"
   ]
  },
  {
   "cell_type": "markdown",
   "metadata": {
    "slideshow": {
     "slide_type": "slide"
    }
   },
   "source": [
    "初心者からしたら訳の分からないことが連発します。**当たり前なので、遠慮せず聞いてください。**\n",
    "\n",
    "それでも、納得のいかないことや消化しきれないものが絶対に出てきます。\n",
    "\n",
    "当たり前なのでもし分からないことがあれば適宜、書籍やWebで検索してください。\n",
    "\n",
    "挫折しそうになるかもしれないけど頑張りましょう。\n",
    "\n",
    "↓結局これ。頭で考えても分からないものは分からない。トライ&エラー。"
   ]
  },
  {
   "cell_type": "markdown",
   "metadata": {
    "slideshow": {
     "slide_type": "slide"
    }
   },
   "source": [
    "## 初めに。\n",
    "### このスライドの作り方\n",
    "\n",
    "↓Jupyter Notebookでプレゼンをするとっても便利な方法\n",
    "\n",
    "https://qiita.com/cvusk/items/d425751ba663dc8c6517\n",
    "\n",
    "## 書き方\n",
    "\n",
    "jupyternotebookの右上で、Markdownを選択\n",
    "\n",
    "<img src=\"jupyter.png\">"
   ]
  },
  {
   "cell_type": "markdown",
   "metadata": {
    "slideshow": {
     "slide_type": "slide"
    }
   },
   "source": [
    "## そもそもMarkdownとは？\n",
    "\n",
    "#### Markdown（マークダウン）は文章を記述するための記法（マークアップ言語）の一つです。\n",
    "\n",
    "Markdown（マークダウン）とは、メールを記述する時のように書きやすくて読みやすいプレーンテキストをある程度見栄えのするHTML文書へ変換できるフォーマットとしてジョン・グルーバーによって開発されました。\n",
    "\n",
    "↓詳しい書き方はこちら\n",
    "\n",
    "https://qiita.com/Qiita/items/c686397e4a0f4f11683d"
   ]
  },
  {
   "cell_type": "markdown",
   "metadata": {
    "slideshow": {
     "slide_type": "slide"
    }
   },
   "source": [
    "## 基礎知識：モジュールって何?\n",
    "Pythonでは、関数やクラスなどをまとめて書いたファイルをモジュールといいます.\n",
    "拡張子が「.py」のファイルは全てPythonモジュール.\n",
    "\n",
    "### ついでに、モジュールとパッケージ、ライブラリの違いについて\n",
    "パッケージ：モジュールの集合体\n",
    "\n",
    "ライブラリ：パッケージをまとめてインストールできるようにしたもの\n",
    "<img src=\"library_01.png\">"
   ]
  },
  {
   "cell_type": "markdown",
   "metadata": {
    "slideshow": {
     "slide_type": "slide"
    }
   },
   "source": [
    "### Pythonの標準ライブラリ\n",
    "\n",
    "Pythonにあらかじめ標準で用意されているライブラリ\n",
    "ex. print()、len()、abs()等\n",
    "\n",
    "### 組み込みモジュール\n",
    "代表的なのだとtime、math、random、os等（詳しくは独学プログラマーp.118～）\n",
    "\n",
    "これらを使いたい時は、import [モジュール名]で**インポート**する\n",
    "\n",
    "time.sleep()みたいに使う\n",
    "\n",
    "#### おまけ　関数とメソッドの違い　https://gammasoft.jp/blog/difference-method-vs-function/\n",
    "詳しくは独学プログラマーp.150～"
   ]
  },
  {
   "cell_type": "markdown",
   "metadata": {
    "slideshow": {
     "slide_type": "slide"
    }
   },
   "source": [
    "### ディレクトリ\n",
    "ディレクトリ (英: directory) は、コンピュータのファイルシステムにおいて、ファイルをグループ化するための特殊なファイル[1]で、整理・管理などの目的で活用される。ディレクトリの中にも、通常のファイルだけでなく入れ子的にディレクトリを作って、任意の階層を持たせて管理できることがほとんどである。\n",
    "\n",
    "### 辞書\n",
    "辞書型は { から } までの間に複数の要素をカンマ(,)で区切って定義します。要素はキーと対応する値の組み合わせを キー:値 の形式で記述します。書式は次のとおり。\n",
    "{キー1:値1, キー2:値2, ...}\n",
    "\n",
    "キーを指定してあげると、対応する値を得られる。\n",
    "辞書は複数の項目をまとめておきたいときによく使われる。"
   ]
  },
  {
   "cell_type": "markdown",
   "metadata": {
    "slideshow": {
     "slide_type": "slide"
    }
   },
   "source": [
    "## じゃあ早速コードを見ながら説明していきます。"
   ]
  },
  {
   "cell_type": "code",
   "execution_count": 2,
   "metadata": {
    "slideshow": {
     "slide_type": "slide"
    }
   },
   "outputs": [
    {
     "data": {
      "text/plain": [
       "<Response [200]>"
      ]
     },
     "execution_count": 2,
     "metadata": {},
     "output_type": "execute_result"
    }
   ],
   "source": [
    "#LINE通知自動化ボット\n",
    "import requests\n",
    "\n",
    "message=\"ありがたき幸せ...！\"\n",
    "image=\"cafe.jpg\"\n",
    "sticker_package_id=2\n",
    "sticker_id=171\n",
    "\n",
    "url = \"https://notify-api.line.me/api/notify\"\n",
    "\n",
    "payload = {\"message\": message,\n",
    "           \"stickerPackageId\": sticker_package_id,\n",
    "           \"stickerId\": sticker_id,\n",
    "    }\n",
    "\n",
    "headers = {\"Authorization\": \"Bearer \" + \"YOUR_ACCESS_TOKEN\"}\n",
    "\n",
    "files = {\"imageFile\": open(image, \"rb\")}\n",
    "\n",
    "requests.post(url, headers=headers, params=payload,files=files)"
   ]
  },
  {
   "cell_type": "markdown",
   "metadata": {
    "slideshow": {
     "slide_type": "slide"
    }
   },
   "source": [
    "<img src=\"通知.png\">"
   ]
  },
  {
   "cell_type": "markdown",
   "metadata": {
    "slideshow": {
     "slide_type": "slide"
    }
   },
   "source": [
    "実際にやってみる。\n",
    "\n",
    "出来るようになるまでの道のり↓\n",
    "\n",
    "https://qiita.com/moriita/items/5b199ac6b14ceaa4f7c9"
   ]
  },
  {
   "cell_type": "code",
   "execution_count": null,
   "metadata": {
    "slideshow": {
     "slide_type": "slide"
    }
   },
   "outputs": [],
   "source": [
    "#サードパーティ製のrequestsライブラリをインポート\n",
    "#要するに、天才が作って配布してくれてる便利なメソッドがいろいろ入ったライブラリだと思ってもらえば。関数ではないよ。\n",
    "#Google Colaboratory では、セルにpip install [ライブラリ名]で出来る。Anaconda はcondaを用いる。\n",
    "import requests\n",
    "\n",
    "#変数messageにstrクラスのインスタンスである\"ありがとう、嬉しい！\"という文字列オブジェクトを格納\n",
    "#簡単に言うと、messageっていう変数に文字を代入しただけ\n",
    "message=\"ありがとう、嬉しい！\"\n",
    "\n",
    "#変数imageに\"cafe.jpg\"という画像ファイルを格納\n",
    "#これはカレントディレクトリからの相対パスで指定。絶対パスでも可。どっちでも。パスについては独学プログラマーp.193\n",
    "#パスを指定しないと、どのディレクトリ下のデータか分からないので、正常に動作しません。\n",
    "#絶対パスは、\"C:\\Users\\Yusuke\\Enhancer勉強会_題材\\cafe.jpg\"\n",
    "\n",
    "image=\"cafe.jpg\"\n",
    "\n",
    "#LINE側で設定されているスタンプに割り当てられているID\n",
    "sticker_package_id=2\n",
    "sticker_id=171"
   ]
  },
  {
   "cell_type": "code",
   "execution_count": null,
   "metadata": {
    "slideshow": {
     "slide_type": "slide"
    }
   },
   "outputs": [],
   "source": [
    "#LINENortifyのHP\n",
    "#ここにアクセスして、それぞれのアカウントのアクセストークンで端末の識別、およびデータの取得を行う。\n",
    "url = \"https://notify-api.line.me/api/notify\"\n",
    "\n",
    "#辞書(ディクショナリ)の作成。独学プログラマーp.78～\n",
    "payload = {\"message\": message,\n",
    "           \"stickerPackageId\": sticker_package_id,\n",
    "           \"stickerId\": sticker_id,\n",
    "    }\n",
    "\n",
    "#↓詳しくは　https://openid-foundation-japan.github.io/rfc6750.ja.html#authz-header\n",
    "headers = {\"Authorization\": \"Bearer \" + \"YOUR_ACCESS_TOKEN\"}\n",
    "\n",
    "#Python標準のopen関数で、画像を開き変数filesに格納\n",
    "##rbはバイナリモードで読み出し専用に開くという意味、これをしないと画像が壊れる。\n",
    "#詳しくは　https://docs.python.org/ja/2.7/tutorial/inputoutput.html\n",
    "files = {\"imageFile\": open(image, \"rb\")}\n",
    "\n",
    "#POSTリクエストを送信\n",
    "#rに代入するのはしてもしなくてもいい\n",
    "r = requests.post(url, headers=headers, params=payload,files=files)"
   ]
  },
  {
   "cell_type": "code",
   "execution_count": 22,
   "metadata": {
    "slideshow": {
     "slide_type": "slide"
    }
   },
   "outputs": [],
   "source": [
    "#本家のコード\n",
    "#本家はモジュール化して、メソッドを呼びだしている。\n",
    "#本来はこのようにクラスにしておいて、モジュール化しておけば呼び出しやすい。\n",
    "import requests\n",
    "\n",
    "#クラスの定義\n",
    "class LINENotifyBot:\n",
    "    API_URL = \"https://notify-api.line.me/api/notify\"\n",
    "    #self変数を用いてインスタンス変数を定義（今回の場合、headersというインスタンス変数が生成される）\n",
    "    #通常、この__init__という特別なメソッドの中で定義される。独学プログラマーp.150～\n",
    "    def __init__(self, access_token):\n",
    "        self.__headers = {\"Authorization\": \"Bearer \" + access_token}\n",
    "    \n",
    "    #sendメソッドを作成\n",
    "    def send(self, message, image=None, sticker_package_id=None, sticker_id=None):\n",
    "        payload = {\n",
    "            \"message\": message,\n",
    "            \"stickerPackageId\": sticker_package_id,\n",
    "            \"stickerId\": sticker_id,\n",
    "            }\n",
    "        files = {}\n",
    "        if image != None:\n",
    "            files = {\"imageFile\": open(image, \"rb\")}\n",
    "        #requestsモジュールのpostメソッドを利用\n",
    "        r = requests.post(\n",
    "            LINENotifyBot.API_URL,\n",
    "            headers=self.__headers,\n",
    "            data=payload,\n",
    "            files=files,\n",
    "            )\n",
    "\n",
    "#LINENortifyBotクラスから、LINENortifyBotオブジェクトを作成\n",
    "#botはLINENortifyBotクラスのインスタンス\n",
    "#初めてだとよくわからないと思うので、独学プログラマーp.148～オブジェクト指向プログラミングを参照\n",
    "#YOUR ACCESS TOKENに取得した各々のLINE ACCESS TOKENを入れてください\n",
    "bot = LINENotifyBot(access_token='YOUR_ACCESS_TOKEN')\n",
    "\n",
    "bot.send(\n",
    "    message=\"1\",\n",
    "    image=\"jupyter.png\",\n",
    "    sticker_package_id=2,\n",
    "    sticker_id=171\n",
    "\n",
    "    )"
   ]
  },
  {
   "cell_type": "code",
   "execution_count": 3,
   "metadata": {},
   "outputs": [
    {
     "data": {
      "text/plain": [
       "<Response [200]>"
      ]
     },
     "execution_count": 3,
     "metadata": {},
     "output_type": "execute_result"
    }
   ],
   "source": [
    "#LINE通知プログラム\n",
    "\n",
    "import requests\n",
    "\n",
    "message=\"ありがたき幸せ...！\"\n",
    "\n",
    "image=\"cafe.jpg\"\n",
    "\n",
    "sticker_package_id=2\n",
    "\n",
    "sticker_id=171\n",
    "\n",
    "url = \"https://notify-api.line.me/api/notify\"\n",
    "payload = {\"message\": message, \"stickerPackageId\": sticker_package_id, \"stickerId\": sticker_id, }\n",
    "\n",
    "headers = {\"Authorization\": \"Bearer \" + \"YOUR_ACCESS_TOKEN\"}\n",
    "\n",
    "if image !=None:\n",
    "    files = {\"imageFile\": open(image, \"rb\")}\n",
    "\n",
    "requests.post(url, headers=headers, params=payload,files=files)"
   ]
  },
  {
   "cell_type": "code",
   "execution_count": null,
   "metadata": {},
   "outputs": [],
   "source": []
  }
 ],
 "metadata": {
  "celltoolbar": "Slideshow",
  "kernelspec": {
   "display_name": "Python 3",
   "language": "python",
   "name": "python3"
  },
  "language_info": {
   "codemirror_mode": {
    "name": "ipython",
    "version": 3
   },
   "file_extension": ".py",
   "mimetype": "text/x-python",
   "name": "python",
   "nbconvert_exporter": "python",
   "pygments_lexer": "ipython3",
   "version": "3.7.4"
  }
 },
 "nbformat": 4,
 "nbformat_minor": 2
}
